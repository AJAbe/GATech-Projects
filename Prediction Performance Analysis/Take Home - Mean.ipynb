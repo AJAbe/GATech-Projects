{
 "cells": [
  {
   "cell_type": "code",
   "execution_count": 31,
   "id": "8ca0ec5f",
   "metadata": {},
   "outputs": [],
   "source": [
    "import pandas as pd\n",
    "import numpy as np\n",
    "import seaborn as sns\n",
    "\n",
    "from collections import defaultdict\n",
    "\n",
    "import numpy as np\n",
    "from sklearn.linear_model import LinearRegression\n",
    "from sklearn.model_selection import train_test_split\n",
    "#from sklearn.feature_selection import SequentialFeatureSelector\n",
    "\n",
    "from mlxtend.feature_selection import SequentialFeatureSelector as SFS\n",
    "\n",
    "\n",
    "from statsmodels.stats.outliers_influence import variance_inflation_factor \n",
    "\n",
    "\n",
    "from statsmodels.tools.tools import add_constant\n",
    "import statsmodels.api as sm\n",
    "\n",
    "from statsmodels.regression.linear_model import OLS\n",
    "from sklearn.metrics import make_scorer\n",
    "\n",
    "#from custom_scorer_module import custom_scoring_function\n",
    "\n",
    "from sklearn.model_selection import ShuffleSplit,cross_val_score\n",
    "from stepwise_regression import step_reg\n",
    "import matplotlib.pyplot as plt\n",
    "\n",
    "from sklearn.linear_model import LassoCV, Lasso, Ridge, RidgeCV\n",
    "from sklearn.metrics import r2_score\n",
    "from sklearn.preprocessing import StandardScaler\n",
    "\n",
    "%matplotlib inline\n",
    "plt.style.use('ggplot')\n",
    "\n",
    "from sklearn.preprocessing import scale \n",
    "from sklearn import model_selection\n",
    "from sklearn.decomposition import PCA\n",
    "from sklearn.linear_model import LinearRegression\n",
    "from sklearn.cross_decomposition import PLSRegression, PLSSVD\n",
    "from sklearn.metrics import mean_squared_error\n",
    "\n",
    "from sklearn.preprocessing import scale \n",
    "from sklearn import model_selection\n",
    "from sklearn.decomposition import PCA\n",
    "from sklearn.linear_model import LinearRegression\n",
    "from sklearn.cross_decomposition import PLSRegression, PLSSVD\n",
    "from sklearn.metrics import mean_squared_error\n",
    "from sklearn.model_selection import RandomizedSearchCV\n",
    "from sklearn.ensemble import GradientBoostingRegressor\n",
    "\n",
    "from sklearn.discriminant_analysis import LinearDiscriminantAnalysis, QuadraticDiscriminantAnalysis\n",
    "from sklearn.metrics import confusion_matrix, classification_report, precision_score\n",
    "\n",
    "import warnings\n",
    "warnings.filterwarnings(\"ignore\")"
   ]
  },
  {
   "cell_type": "code",
   "execution_count": 32,
   "id": "6e6736de",
   "metadata": {},
   "outputs": [],
   "source": [
    "df_train = pd.read_csv('7406train.csv', header=None)\n",
    "col_dict=defaultdict()\n",
    "for item in df_train.columns:\n",
    "    col_dict[item]='col_'+ str(item)"
   ]
  },
  {
   "cell_type": "code",
   "execution_count": 33,
   "id": "f91e8757",
   "metadata": {},
   "outputs": [],
   "source": [
    "#df_train.iloc[0:1,:]"
   ]
  },
  {
   "cell_type": "code",
   "execution_count": 34,
   "id": "07753245",
   "metadata": {},
   "outputs": [
    {
     "data": {
      "text/html": [
       "<div>\n",
       "<style scoped>\n",
       "    .dataframe tbody tr th:only-of-type {\n",
       "        vertical-align: middle;\n",
       "    }\n",
       "\n",
       "    .dataframe tbody tr th {\n",
       "        vertical-align: top;\n",
       "    }\n",
       "\n",
       "    .dataframe thead th {\n",
       "        text-align: right;\n",
       "    }\n",
       "</style>\n",
       "<table border=\"1\" class=\"dataframe\">\n",
       "  <thead>\n",
       "    <tr style=\"text-align: right;\">\n",
       "      <th></th>\n",
       "      <th>x1</th>\n",
       "      <th>x2</th>\n",
       "      <th>var_cols</th>\n",
       "    </tr>\n",
       "  </thead>\n",
       "  <tbody>\n",
       "    <tr>\n",
       "      <th>0</th>\n",
       "      <td>0.00</td>\n",
       "      <td>0.00</td>\n",
       "      <td>129.393247</td>\n",
       "    </tr>\n",
       "    <tr>\n",
       "      <th>1</th>\n",
       "      <td>0.00</td>\n",
       "      <td>0.01</td>\n",
       "      <td>81.048565</td>\n",
       "    </tr>\n",
       "    <tr>\n",
       "      <th>2</th>\n",
       "      <td>0.00</td>\n",
       "      <td>0.02</td>\n",
       "      <td>78.213141</td>\n",
       "    </tr>\n",
       "    <tr>\n",
       "      <th>3</th>\n",
       "      <td>0.00</td>\n",
       "      <td>0.03</td>\n",
       "      <td>131.763423</td>\n",
       "    </tr>\n",
       "    <tr>\n",
       "      <th>4</th>\n",
       "      <td>0.00</td>\n",
       "      <td>0.04</td>\n",
       "      <td>92.790727</td>\n",
       "    </tr>\n",
       "    <tr>\n",
       "      <th>...</th>\n",
       "      <td>...</td>\n",
       "      <td>...</td>\n",
       "      <td>...</td>\n",
       "    </tr>\n",
       "    <tr>\n",
       "      <th>9995</th>\n",
       "      <td>0.99</td>\n",
       "      <td>0.95</td>\n",
       "      <td>114.388978</td>\n",
       "    </tr>\n",
       "    <tr>\n",
       "      <th>9996</th>\n",
       "      <td>0.99</td>\n",
       "      <td>0.96</td>\n",
       "      <td>99.231415</td>\n",
       "    </tr>\n",
       "    <tr>\n",
       "      <th>9997</th>\n",
       "      <td>0.99</td>\n",
       "      <td>0.97</td>\n",
       "      <td>82.897736</td>\n",
       "    </tr>\n",
       "    <tr>\n",
       "      <th>9998</th>\n",
       "      <td>0.99</td>\n",
       "      <td>0.98</td>\n",
       "      <td>51.309250</td>\n",
       "    </tr>\n",
       "    <tr>\n",
       "      <th>9999</th>\n",
       "      <td>0.99</td>\n",
       "      <td>0.99</td>\n",
       "      <td>23.354335</td>\n",
       "    </tr>\n",
       "  </tbody>\n",
       "</table>\n",
       "<p>10000 rows × 3 columns</p>\n",
       "</div>"
      ],
      "text/plain": [
       "        x1    x2    var_cols\n",
       "0     0.00  0.00  129.393247\n",
       "1     0.00  0.01   81.048565\n",
       "2     0.00  0.02   78.213141\n",
       "3     0.00  0.03  131.763423\n",
       "4     0.00  0.04   92.790727\n",
       "...    ...   ...         ...\n",
       "9995  0.99  0.95  114.388978\n",
       "9996  0.99  0.96   99.231415\n",
       "9997  0.99  0.97   82.897736\n",
       "9998  0.99  0.98   51.309250\n",
       "9999  0.99  0.99   23.354335\n",
       "\n",
       "[10000 rows x 3 columns]"
      ]
     },
     "execution_count": 34,
     "metadata": {},
     "output_type": "execute_result"
    }
   ],
   "source": [
    "df_train.rename(columns=col_dict, inplace=True)\n",
    "df_train.rename(columns={'col_0':'x1','col_1':'x2'}, inplace=True)\n",
    "df_train_1=df_train[['x1','x2']]\n",
    "df_train_1['mean_cols']=np.mean(df_train.iloc[:,2:202], axis=1)\n",
    "df_train_1['var_cols']=np.var(df_train.iloc[:,2:202], axis=1)\n",
    "final_df_mean=df_train_1[['x1','x2','mean_cols']]\n",
    "final_df_var=df_train_1[['x1','x2','var_cols']]\n",
    "final_df_var"
   ]
  },
  {
   "cell_type": "code",
   "execution_count": 35,
   "id": "4045ff63",
   "metadata": {},
   "outputs": [],
   "source": [
    "X=final_df_mean[['x1','x2']]\n",
    "y=final_df_mean['mean_cols']"
   ]
  },
  {
   "cell_type": "code",
   "execution_count": 36,
   "id": "de72864a",
   "metadata": {},
   "outputs": [],
   "source": [
    "from generalized_additive_models import GAM, Spline, Categorical"
   ]
  },
  {
   "cell_type": "code",
   "execution_count": 37,
   "id": "649bab47",
   "metadata": {},
   "outputs": [],
   "source": [
    "terms = Spline(\"x1\") + Spline(\"x2\") \n",
    "gam = GAM(terms)"
   ]
  },
  {
   "cell_type": "code",
   "execution_count": 38,
   "id": "43a7b369",
   "metadata": {},
   "outputs": [
    {
     "name": "stdout",
     "output_type": "stream",
     "text": [
      "cross Validation scores:n [0.98386963 0.98216753 0.98250685 0.98169179 0.98268923 0.98320078\n",
      " 0.98268594 0.9832097  0.9835374  0.98337097 0.98344003 0.98336604\n",
      " 0.98268939 0.98302487 0.98326188 0.98397993 0.98232644 0.98323396\n",
      " 0.98307341 0.98275163 0.98305703 0.98280382 0.98258496 0.98212019\n",
      " 0.98254745 0.98269819 0.98204055 0.98202532 0.98328819 0.98280756\n",
      " 0.98330728 0.98176642 0.98293741 0.98251544 0.98229741 0.98203072\n",
      " 0.98260312 0.98392008 0.9831434  0.98332477 0.98299838 0.98296349\n",
      " 0.98335773 0.98204867 0.98267057 0.98329548 0.98285559 0.98233471\n",
      " 0.98220848 0.98219847 0.98332456 0.98228688 0.98236797 0.98312754\n",
      " 0.98335322 0.9829729  0.98255145 0.98318724 0.98257143 0.98307012\n",
      " 0.98187957 0.98384727 0.98369179 0.9826868  0.98240232 0.9827361\n",
      " 0.9819496  0.98265393 0.98319583 0.98300674 0.98333859 0.98262939\n",
      " 0.98292074 0.98275289 0.98251728 0.9826071  0.98280184 0.98319383\n",
      " 0.98217809 0.98295881 0.98273817 0.98266123 0.98217752 0.98310162\n",
      " 0.98279577 0.9829953  0.98367503 0.98309476 0.98270796 0.98267087\n",
      " 0.9826512  0.98365985 0.98330104 0.98353753 0.9834269  0.98277052\n",
      " 0.98364098 0.98212513 0.98324041 0.98247789]\n",
      "Average Cross Validation score :0.9828503974641228\n",
      "Variance of Cross Validation score :2.608332134806356e-07\n"
     ]
    }
   ],
   "source": [
    "shuffle_split=ShuffleSplit(test_size=.3,n_splits=100,  random_state=123)\n",
    "scores_gam=cross_val_score(gam,X,y,cv=shuffle_split, scoring=\"r2\")\n",
    "print(\"cross Validation scores:n {}\".format(scores_gam))\n",
    "print(\"Average Cross Validation score :{}\".format(scores_gam.mean()))\n",
    "print(\"Variance of Cross Validation score :{}\".format(scores_gam.var()))"
   ]
  },
  {
   "cell_type": "code",
   "execution_count": 240,
   "id": "335e0225",
   "metadata": {},
   "outputs": [
    {
     "name": "stdout",
     "output_type": "stream",
     "text": [
      "3.174848838417639\n"
     ]
    }
   ],
   "source": [
    "model = gam\n",
    "model.fit(X,y)\n",
    "final_df_mean['y__mean_new_gam']=model.predict(X)\n",
    "#print(np.sum((final_df_mean['y__mean_new_gam']-final_df_mean['mean_cols'])**2)/10000)\n",
    "print(mean_squared_error(final_df_mean['y__mean_new_gam'],final_df_mean['mean_cols']))"
   ]
  },
  {
   "cell_type": "code",
   "execution_count": null,
   "id": "69e677e6",
   "metadata": {},
   "outputs": [],
   "source": []
  },
  {
   "cell_type": "code",
   "execution_count": null,
   "id": "0782c0da",
   "metadata": {},
   "outputs": [],
   "source": []
  },
  {
   "cell_type": "code",
   "execution_count": null,
   "id": "e5962c0c",
   "metadata": {},
   "outputs": [],
   "source": []
  },
  {
   "cell_type": "code",
   "execution_count": null,
   "id": "118fe630",
   "metadata": {},
   "outputs": [],
   "source": []
  },
  {
   "cell_type": "code",
   "execution_count": null,
   "id": "3a38b9c8",
   "metadata": {},
   "outputs": [],
   "source": []
  },
  {
   "cell_type": "code",
   "execution_count": 242,
   "id": "a629c423",
   "metadata": {},
   "outputs": [],
   "source": [
    "gbm_model = GradientBoostingRegressor(random_state=77)"
   ]
  },
  {
   "cell_type": "code",
   "execution_count": 244,
   "id": "75a7b9df",
   "metadata": {},
   "outputs": [
    {
     "name": "stdout",
     "output_type": "stream",
     "text": [
      "Fitting 10 folds for each of 50 candidates, totalling 500 fits\n"
     ]
    }
   ],
   "source": [
    "shuffle_split=ShuffleSplit(test_size=.3,n_splits=100,  random_state=123)\n",
    "gbm_params = {\"learning_rate\": [0.001, 0.01,.1,1], \n",
    "              \"max_depth\": [3,5,8], \n",
    "              \"n_estimators\": [100,200,250,500], \n",
    "              \"subsample\": [1,0.5,0.8], \n",
    "              \"loss\": [\"squared_error\", \"absolute_error\",\"huber\", \"quantile\"],\n",
    "             'ccp_alpha':np.linspace(.001, .1,50)}\n",
    "\n",
    "gbm_cv_model = RandomizedSearchCV(gbm_model, gbm_params, \n",
    "                            cv=10, verbose=1, n_iter = 50).fit(X, y)"
   ]
  },
  {
   "cell_type": "code",
   "execution_count": 245,
   "id": "3ce8da08",
   "metadata": {},
   "outputs": [
    {
     "data": {
      "text/plain": [
       "{'subsample': 0.5,\n",
       " 'n_estimators': 100,\n",
       " 'max_depth': 8,\n",
       " 'loss': 'huber',\n",
       " 'learning_rate': 0.1,\n",
       " 'ccp_alpha': 0.001}"
      ]
     },
     "execution_count": 245,
     "metadata": {},
     "output_type": "execute_result"
    }
   ],
   "source": [
    "#gbm_cv_model.fit(X, y)\n",
    "gbm_cv_model.best_params_"
   ]
  },
  {
   "cell_type": "code",
   "execution_count": 39,
   "id": "074c8bea",
   "metadata": {},
   "outputs": [
    {
     "name": "stdout",
     "output_type": "stream",
     "text": [
      "cross Validation scores:n [0.99309222 0.99271785 0.99291247 0.9929461  0.99306145 0.99300109\n",
      " 0.99306969 0.9928601  0.99307724 0.99276466 0.9928756  0.99316181\n",
      " 0.99292389 0.99281577 0.99291137 0.99304869 0.99270934 0.99301341\n",
      " 0.99323827 0.99275374 0.99305117 0.9930896  0.99276501 0.99294371\n",
      " 0.99285614 0.99277997 0.99279069 0.9925241  0.99290724 0.99280288\n",
      " 0.99273117 0.99271038 0.99291671 0.99327275 0.99294167 0.99292245\n",
      " 0.99284308 0.99312547 0.99320066 0.993089   0.99289038 0.99289343\n",
      " 0.99310424 0.99241566 0.99279341 0.99300134 0.9928216  0.99262653\n",
      " 0.99243503 0.99300006 0.99290534 0.99300219 0.99294067 0.99290196\n",
      " 0.99269278 0.99303695 0.9928769  0.99274525 0.99322609 0.99340309\n",
      " 0.99264323 0.99284205 0.99309416 0.99311941 0.99248789 0.99310735\n",
      " 0.99263072 0.99287605 0.9929358  0.99318912 0.99322116 0.99287296\n",
      " 0.99291676 0.99265643 0.99282321 0.9929124  0.99325815 0.99287277\n",
      " 0.99332353 0.99302468 0.99275576 0.99321758 0.9930935  0.99275265\n",
      " 0.99354285 0.99287874 0.99296197 0.99255556 0.99282373 0.99296542\n",
      " 0.99308046 0.99331588 0.99272722 0.99350348 0.99303302 0.99280809\n",
      " 0.99337776 0.99265858 0.99268286 0.99274018]\n",
      "Average Cross Validation score :0.9929321472579695\n",
      "Variance of Cross Validation score :4.808025154666824e-08\n"
     ]
    }
   ],
   "source": [
    "model_gbr = GradientBoostingRegressor(subsample= 0.5,\n",
    " n_estimators= 100,\n",
    " max_depth= 8,\n",
    " loss= 'huber',\n",
    " learning_rate= 0.1,\n",
    " ccp_alpha= 0.001,\n",
    "                             random_state=77)\n",
    "shuffle_split=ShuffleSplit(test_size=.3,n_splits=100,  random_state=123)\n",
    "scores_gbr=cross_val_score(model_gbr,X,y,cv=shuffle_split)\n",
    "print(\"cross Validation scores:n {}\".format(scores_gbr))\n",
    "print(\"Average Cross Validation score :{}\".format(scores_gbr.mean()))\n",
    "print(\"Variance of Cross Validation score :{}\".format(scores_gbr.var()))"
   ]
  },
  {
   "cell_type": "code",
   "execution_count": 40,
   "id": "f5ebee90",
   "metadata": {},
   "outputs": [
    {
     "name": "stdout",
     "output_type": "stream",
     "text": [
      "1.0549762009644308\n"
     ]
    }
   ],
   "source": [
    "model = model_gbr\n",
    "model.fit(X,y)\n",
    "final_df_mean['y__mean_new_gbr']=model.predict(X)\n",
    "#print(np.sum((final_df_mean['y__mean_new_gam']-final_df_mean['mean_cols'])**2)/10000)\n",
    "print(mean_squared_error(final_df_mean['y__mean_new_gbr'],final_df_mean['mean_cols']))"
   ]
  },
  {
   "cell_type": "code",
   "execution_count": null,
   "id": "e2ee8ba6",
   "metadata": {},
   "outputs": [],
   "source": []
  },
  {
   "cell_type": "code",
   "execution_count": null,
   "id": "62553faa",
   "metadata": {},
   "outputs": [],
   "source": []
  },
  {
   "cell_type": "code",
   "execution_count": null,
   "id": "3ca0f9f1",
   "metadata": {},
   "outputs": [],
   "source": []
  },
  {
   "cell_type": "code",
   "execution_count": null,
   "id": "c99e2b93",
   "metadata": {},
   "outputs": [],
   "source": []
  },
  {
   "cell_type": "code",
   "execution_count": 42,
   "id": "4cedde1d",
   "metadata": {},
   "outputs": [],
   "source": [
    "import xgboost\n",
    "from xgboost import XGBRegressor\n",
    "xgb_model = XGBRegressor(random_state=77)"
   ]
  },
  {
   "cell_type": "code",
   "execution_count": 151,
   "id": "f3fd97db",
   "metadata": {},
   "outputs": [],
   "source": [
    "xgb_params = {\"learning_rate\": np.linspace(.001, .1,50),\n",
    "\"max_depth\": [2,3,4,5,8],\n",
    "\"n_estimators\": [100,200,500,1000, 250],\n",
    "\"colsample_bytree\": [0.4,0.7,1]}"
   ]
  },
  {
   "cell_type": "code",
   "execution_count": 249,
   "id": "d607ed14",
   "metadata": {},
   "outputs": [
    {
     "name": "stdout",
     "output_type": "stream",
     "text": [
      "Fitting 10 folds for each of 50 candidates, totalling 500 fits\n"
     ]
    },
    {
     "data": {
      "text/plain": [
       "{'n_estimators': 250,\n",
       " 'max_depth': 4,\n",
       " 'learning_rate': 0.0656530612244898,\n",
       " 'colsample_bytree': 1}"
      ]
     },
     "execution_count": 249,
     "metadata": {},
     "output_type": "execute_result"
    }
   ],
   "source": [
    "xgb_cv_model = RandomizedSearchCV(xgb_model, xgb_params, \n",
    "                            cv=10, verbose=1, n_iter = 50).fit(X, y)\n",
    "xgb_cv_model.best_params_"
   ]
  },
  {
   "cell_type": "code",
   "execution_count": 43,
   "id": "76fa9a55",
   "metadata": {},
   "outputs": [
    {
     "name": "stdout",
     "output_type": "stream",
     "text": [
      "cross Validation scores:n [0.99340549 0.99280957 0.99303495 0.9931237  0.9932603  0.99330367\n",
      " 0.99332792 0.99313025 0.99322517 0.99312996 0.99306035 0.99335359\n",
      " 0.99320746 0.99310743 0.99314526 0.99335774 0.99295293 0.99320981\n",
      " 0.99341928 0.99299915 0.9931847  0.99323404 0.99295554 0.99316724\n",
      " 0.99309782 0.99302608 0.9931586  0.99275197 0.99309369 0.99282844\n",
      " 0.99298521 0.99291307 0.99301521 0.99348919 0.99322104 0.99310213\n",
      " 0.99304492 0.99332767 0.99338126 0.99337259 0.99315102 0.99317796\n",
      " 0.99329546 0.99271208 0.99307231 0.99324001 0.99308279 0.99281494\n",
      " 0.99287762 0.99311493 0.99329247 0.9931846  0.9931804  0.99298536\n",
      " 0.99291418 0.9933136  0.99311759 0.99300422 0.99345674 0.99369827\n",
      " 0.992925   0.99311087 0.99330922 0.99335949 0.99272952 0.99327725\n",
      " 0.99300277 0.99311358 0.99312201 0.99346895 0.99333002 0.99311619\n",
      " 0.99312005 0.99302565 0.99293391 0.99305388 0.99345408 0.99314279\n",
      " 0.99349319 0.99329564 0.99310186 0.99346322 0.99332861 0.99302003\n",
      " 0.99365226 0.99314351 0.99318652 0.99281275 0.9931322  0.99323194\n",
      " 0.99326836 0.99345647 0.99300889 0.99370632 0.9933283  0.99311163\n",
      " 0.99364226 0.99300008 0.99296233 0.99292947]\n",
      "Average Cross Validation score :0.9931647209681184\n",
      "Variance of Cross Validation score :4.270856201022892e-08\n"
     ]
    }
   ],
   "source": [
    "model_xgb = XGBRegressor(\n",
    " n_estimators= 250,\n",
    " max_depth= 4,\n",
    "colsample_bytree=1,\n",
    " learning_rate= 0.0656530612244898,\n",
    "\n",
    "                             random_state=77)\n",
    "shuffle_split=ShuffleSplit(test_size=.3,n_splits=100,  random_state=123)\n",
    "scores_xgb=cross_val_score(model_xgb,X,y,cv=shuffle_split)\n",
    "print(\"cross Validation scores:n {}\".format(scores_xgb))\n",
    "print(\"Average Cross Validation score :{}\".format(scores_xgb.mean()))\n",
    "print(\"Variance of Cross Validation score :{}\".format(scores_xgb.var()))"
   ]
  },
  {
   "cell_type": "code",
   "execution_count": 44,
   "id": "e32d3688",
   "metadata": {},
   "outputs": [
    {
     "name": "stdout",
     "output_type": "stream",
     "text": [
      "1.097609703075469\n"
     ]
    }
   ],
   "source": [
    "model = model_xgb\n",
    "model.fit(X,y)\n",
    "final_df_mean['y__mean_new_xgb']=model.predict(X)\n",
    "#print(np.sum((final_df_mean['y__mean_new_gam']-final_df_mean['mean_cols'])**2)/10000)\n",
    "print(mean_squared_error(final_df_mean['y__mean_new_xgb'],final_df_mean['mean_cols']))"
   ]
  },
  {
   "cell_type": "code",
   "execution_count": null,
   "id": "fba58f93",
   "metadata": {},
   "outputs": [],
   "source": []
  },
  {
   "cell_type": "code",
   "execution_count": null,
   "id": "8c55a4a8",
   "metadata": {},
   "outputs": [],
   "source": []
  },
  {
   "cell_type": "code",
   "execution_count": null,
   "id": "fe19a734",
   "metadata": {},
   "outputs": [],
   "source": []
  },
  {
   "cell_type": "code",
   "execution_count": null,
   "id": "8a8edd60",
   "metadata": {},
   "outputs": [],
   "source": []
  },
  {
   "cell_type": "code",
   "execution_count": 161,
   "id": "b077f457",
   "metadata": {},
   "outputs": [
    {
     "name": "stdout",
     "output_type": "stream",
     "text": [
      "1.1056880807394094\n",
      "1.051517037778946\n"
     ]
    }
   ],
   "source": [
    "from sklearn.svm import SVR\n",
    "\n",
    "model = RandomForestRegressor(n_estimators= 100,\n",
    " min_samples_split= 20,\n",
    " max_depth= 50,\n",
    " criterion= 'squared_error',\n",
    " ccp_alpha= 0.0030204081632653063,\n",
    "                             random_state=77)\n",
    "\n",
    "model.fit(X,y)\n",
    "final_df_mean['y__mean_new']=model.predict(X)\n",
    "print(np.sum((final_df_mean['y__mean_new']-final_df_mean['mean_cols'])**2)/10000)\n",
    "print(np.sqrt(mean_squared_error(final_df_mean['mean_cols'],final_df_mean['y__mean_new'])))"
   ]
  },
  {
   "cell_type": "code",
   "execution_count": null,
   "id": "4d2d21bb",
   "metadata": {},
   "outputs": [],
   "source": []
  },
  {
   "cell_type": "code",
   "execution_count": 46,
   "id": "62c613e4",
   "metadata": {},
   "outputs": [],
   "source": [
    "from sklearn.neighbors import KNeighborsRegressor\n"
   ]
  },
  {
   "cell_type": "code",
   "execution_count": 252,
   "id": "8c9a9e52",
   "metadata": {},
   "outputs": [
    {
     "name": "stdout",
     "output_type": "stream",
     "text": [
      "Fitting 10 folds for each of 29 candidates, totalling 290 fits\n"
     ]
    },
    {
     "data": {
      "text/plain": [
       "{'n_neighbors': 10}"
      ]
     },
     "execution_count": 252,
     "metadata": {},
     "output_type": "execute_result"
    }
   ],
   "source": [
    "\n",
    "knn_params = {\"n_neighbors\": np.arange(1,30,1)}\n",
    "knn = KNeighborsRegressor()\n",
    "knn_cv_model = RandomizedSearchCV(knn, knn_params, cv=10, random_state=123,verbose=1, n_iter = 50).fit(X, y)\n",
    "knn_cv_model.best_params_"
   ]
  },
  {
   "cell_type": "code",
   "execution_count": 47,
   "id": "846d8c99",
   "metadata": {},
   "outputs": [
    {
     "name": "stdout",
     "output_type": "stream",
     "text": [
      "cross Validation scores:n [0.99295252 0.99256164 0.99272351 0.9928647  0.99291763 0.99291529\n",
      " 0.99290602 0.9928108  0.99286632 0.99274062 0.99284371 0.99290494\n",
      " 0.99281941 0.99278156 0.99275946 0.99296316 0.99249695 0.99286681\n",
      " 0.99303465 0.99248792 0.99281907 0.99302575 0.99260606 0.99274243\n",
      " 0.99264735 0.99274989 0.9927599  0.99231676 0.99275972 0.9925708\n",
      " 0.99256957 0.99256959 0.99269701 0.99318802 0.99291921 0.99286154\n",
      " 0.99263687 0.99302349 0.99315088 0.99310643 0.99282153 0.99273544\n",
      " 0.99290029 0.99221975 0.99265283 0.99307027 0.99263293 0.99240796\n",
      " 0.99239572 0.99292496 0.99295713 0.99288256 0.99278887 0.99262023\n",
      " 0.99257447 0.99284158 0.99270661 0.99269101 0.9930906  0.99326552\n",
      " 0.99254587 0.99276761 0.99304216 0.99296538 0.99239513 0.992997\n",
      " 0.99258495 0.99269151 0.99288722 0.9930393  0.99309971 0.99276513\n",
      " 0.99281077 0.99268858 0.99279223 0.99267041 0.99323886 0.99275576\n",
      " 0.99319556 0.99287667 0.99276212 0.99294583 0.99311049 0.99257641\n",
      " 0.99334113 0.99269499 0.99288246 0.99248417 0.99280682 0.99273043\n",
      " 0.99297075 0.99313299 0.99260525 0.99332174 0.99298792 0.99275536\n",
      " 0.99334947 0.99241833 0.99255843 0.99266881]\n",
      "Average Cross Validation score :0.9928103192670771\n",
      "Variance of Cross Validation score :5.197436464620645e-08\n"
     ]
    }
   ],
   "source": [
    "model_knn = KNeighborsRegressor(n_neighbors=10)\n",
    "shuffle_split=ShuffleSplit(test_size=.3,n_splits=100,  random_state=123)\n",
    "scores_knn=cross_val_score(model_knn,X,y,cv=shuffle_split)\n",
    "print(\"cross Validation scores:n {}\".format(scores_knn))\n",
    "print(\"Average Cross Validation score :{}\".format(scores_knn.mean()))\n",
    "print(\"Variance of Cross Validation score :{}\".format(scores_knn.var()))"
   ]
  },
  {
   "cell_type": "code",
   "execution_count": 48,
   "id": "b67e4637",
   "metadata": {},
   "outputs": [
    {
     "name": "stdout",
     "output_type": "stream",
     "text": [
      "1.0849007546106773\n"
     ]
    }
   ],
   "source": [
    "model = model_knn\n",
    "model.fit(X,y)\n",
    "final_df_mean['y__mean_new_knn']=model.predict(X)\n",
    "#print(np.sum((final_df_mean['y__mean_new_gam']-final_df_mean['mean_cols'])**2)/10000)\n",
    "print(mean_squared_error(final_df_mean['y__mean_new_knn'],final_df_mean['mean_cols']))"
   ]
  },
  {
   "cell_type": "code",
   "execution_count": 50,
   "id": "f1b363f8",
   "metadata": {},
   "outputs": [],
   "source": [
    "from sklearn.ensemble import RandomForestRegressor"
   ]
  },
  {
   "cell_type": "code",
   "execution_count": 257,
   "id": "dd0ae0c5",
   "metadata": {},
   "outputs": [],
   "source": [
    "\n",
    "dt_grid = {\n",
    "                 'n_estimators' : [10,100,200,250,300,400,500],\n",
    "                 'criterion': ['squared_error','absolute_error','poisson','friedman_mse'],\n",
    "                 'max_depth': [10,50,75,100,120,150,200, None],\n",
    "                 'min_samples_split': [5,10,20,50,2,100],\n",
    "                \n",
    "                 \n",
    "                'ccp_alpha':np.linspace(.001, .1,50)\n",
    "                 \n",
    "                 }\n",
    "\n",
    "rf = RandomForestRegressor(random_state=77)\n",
    "r_rf = RandomizedSearchCV(param_distributions=dt_grid, \n",
    "                                    estimator = rf, scoring = \"r2\", \n",
    "                                    verbose = 1, n_iter = 50, cv = 10, random_state=77)"
   ]
  },
  {
   "cell_type": "code",
   "execution_count": 258,
   "id": "23b12688",
   "metadata": {},
   "outputs": [
    {
     "name": "stdout",
     "output_type": "stream",
     "text": [
      "Fitting 10 folds for each of 50 candidates, totalling 500 fits\n"
     ]
    },
    {
     "data": {
      "text/plain": [
       "{'n_estimators': 100,\n",
       " 'min_samples_split': 20,\n",
       " 'max_depth': 50,\n",
       " 'criterion': 'squared_error',\n",
       " 'ccp_alpha': 0.0030204081632653063}"
      ]
     },
     "execution_count": 258,
     "metadata": {},
     "output_type": "execute_result"
    }
   ],
   "source": [
    "r_rf.fit(X, y)\n",
    "r_rf.best_params_"
   ]
  },
  {
   "cell_type": "code",
   "execution_count": 51,
   "id": "8a4c1135",
   "metadata": {},
   "outputs": [
    {
     "name": "stdout",
     "output_type": "stream",
     "text": [
      "cross Validation scores:n [0.99295343 0.99249944 0.99259185 0.99281424 0.99267222 0.99273708\n",
      " 0.99284665 0.99257952 0.99275959 0.99264532 0.99264761 0.99292085\n",
      " 0.99290057 0.99261745 0.99272472 0.99291121 0.99246874 0.99271842\n",
      " 0.99303545 0.99253433 0.9927259  0.99287712 0.99251653 0.99258368\n",
      " 0.99259899 0.99257491 0.99261043 0.99226708 0.9925717  0.99257748\n",
      " 0.99255601 0.99246375 0.99263334 0.99308918 0.99271696 0.99265403\n",
      " 0.99260226 0.99291728 0.99308631 0.99301075 0.99270779 0.99260102\n",
      " 0.99275405 0.99228104 0.99253056 0.99276013 0.99250271 0.99235412\n",
      " 0.99230776 0.99274475 0.99286899 0.99271755 0.99271498 0.99269589\n",
      " 0.99244259 0.99275307 0.99256332 0.99263701 0.99285539 0.99309815\n",
      " 0.99238722 0.99260243 0.99294705 0.99289959 0.99227425 0.99278827\n",
      " 0.99253729 0.99266549 0.99262701 0.99305419 0.99297461 0.99280054\n",
      " 0.99273226 0.99252363 0.99259461 0.99272537 0.99317727 0.99261341\n",
      " 0.99306172 0.99296893 0.99258881 0.99297136 0.99300026 0.99251304\n",
      " 0.99330726 0.99265528 0.99269546 0.99251471 0.99257112 0.99275725\n",
      " 0.99278843 0.99307645 0.99257112 0.99333537 0.99290339 0.99267144\n",
      " 0.99327198 0.99237222 0.99258407 0.99246936]\n",
      "Average Cross Validation score :0.9927167676516957\n",
      "Variance of Cross Validation score :5.0642652775806126e-08\n"
     ]
    }
   ],
   "source": [
    "model_rf = RandomForestRegressor(n_estimators= 100,\n",
    " min_samples_split= 20,\n",
    " max_depth= 50,\n",
    " criterion= 'squared_error',\n",
    " ccp_alpha= 0.0030204081632653063,\n",
    "                             random_state=77)\n",
    "shuffle_split=ShuffleSplit(test_size=.3,n_splits=100,  random_state=123)\n",
    "scores_rf=cross_val_score(model_rf,X,y,cv=shuffle_split)\n",
    "print(\"cross Validation scores:n {}\".format(scores_rf))\n",
    "print(\"Average Cross Validation score :{}\".format(scores_rf.mean()))\n",
    "print(\"Variance of Cross Validation score :{}\".format(scores_rf.var()))"
   ]
  },
  {
   "cell_type": "code",
   "execution_count": 52,
   "id": "6d421d68",
   "metadata": {},
   "outputs": [
    {
     "name": "stdout",
     "output_type": "stream",
     "text": [
      "1.1056880807394094\n"
     ]
    }
   ],
   "source": [
    "model = model_rf\n",
    "model.fit(X,y)\n",
    "final_df_mean['y__mean_new_rf']=model.predict(X)\n",
    "#print(np.sum((final_df_mean['y__mean_new_gam']-final_df_mean['mean_cols'])**2)/10000)\n",
    "print(mean_squared_error(final_df_mean['y__mean_new_rf'],final_df_mean['mean_cols']))"
   ]
  },
  {
   "cell_type": "code",
   "execution_count": null,
   "id": "dcf6f1e3",
   "metadata": {},
   "outputs": [],
   "source": []
  },
  {
   "cell_type": "code",
   "execution_count": null,
   "id": "43f23286",
   "metadata": {},
   "outputs": [],
   "source": []
  },
  {
   "cell_type": "code",
   "execution_count": 55,
   "id": "e62b0a6b",
   "metadata": {},
   "outputs": [],
   "source": [
    "from sklearn.svm import SVR"
   ]
  },
  {
   "cell_type": "code",
   "execution_count": 263,
   "id": "8b366cde",
   "metadata": {},
   "outputs": [],
   "source": [
    "\n",
    "dt_grid = {\n",
    "                 'kernel' : ['linear','poly','rbf','sigmoid'],\n",
    "                 'degree': [2,3,4,5],\n",
    "                 'gamma': ['scale','auto',.001,.01,.1,1,.02,.05],\n",
    "                 'C': [5,10,15,20,25,50,100,150],\n",
    "    'epsilon':np.linspace(.001, .1,50)\n",
    "    \n",
    "                 \n",
    "                 }\n",
    "\n",
    "svr = SVR()\n",
    "r_svr = RandomizedSearchCV(param_distributions=dt_grid, \n",
    "                                    estimator = svr, scoring = \"r2\", \n",
    "                                    verbose = 1, n_iter = 25, cv = 10, random_state=77)"
   ]
  },
  {
   "cell_type": "code",
   "execution_count": 264,
   "id": "1b9ca298",
   "metadata": {},
   "outputs": [
    {
     "name": "stdout",
     "output_type": "stream",
     "text": [
      "Fitting 10 folds for each of 25 candidates, totalling 250 fits\n"
     ]
    },
    {
     "data": {
      "text/plain": [
       "{'kernel': 'rbf',\n",
       " 'gamma': 1,\n",
       " 'epsilon': 0.015142857142857145,\n",
       " 'degree': 4,\n",
       " 'C': 5}"
      ]
     },
     "execution_count": 264,
     "metadata": {},
     "output_type": "execute_result"
    }
   ],
   "source": [
    "r_svr.fit(X, y)\n",
    "r_svr.best_params_"
   ]
  },
  {
   "cell_type": "code",
   "execution_count": 56,
   "id": "e9e89524",
   "metadata": {},
   "outputs": [
    {
     "name": "stdout",
     "output_type": "stream",
     "text": [
      "cross Validation scores:n [0.99242802 0.99228009 0.99206814 0.9924481  0.99238507 0.9924475\n",
      " 0.99233831 0.99253714 0.99228463 0.99233816 0.99214528 0.99259474\n",
      " 0.99221799 0.99229031 0.99229451 0.99257296 0.99215621 0.99232665\n",
      " 0.99259984 0.99237407 0.99226287 0.99255985 0.99225665 0.99228499\n",
      " 0.99228681 0.99213379 0.99233586 0.99193447 0.99231462 0.99212728\n",
      " 0.99219531 0.99222227 0.99227512 0.99260735 0.99240704 0.99233883\n",
      " 0.99209173 0.99260606 0.99261883 0.99258589 0.99234144 0.99233808\n",
      " 0.99224081 0.99185127 0.99231982 0.9926357  0.99207908 0.99215222\n",
      " 0.99208623 0.99255614 0.99256287 0.99235171 0.99225639 0.99228097\n",
      " 0.99210695 0.99235884 0.9922515  0.99217387 0.99253305 0.99276375\n",
      " 0.99217849 0.99224989 0.99262023 0.99241424 0.99211428 0.9924998\n",
      " 0.99215253 0.99228197 0.99232157 0.99271285 0.99249591 0.9923253\n",
      " 0.99242371 0.99222102 0.99207294 0.9923713  0.99255371 0.9924514\n",
      " 0.99257249 0.99251556 0.9921619  0.99232881 0.99253561 0.99220741\n",
      " 0.99270287 0.99231847 0.99238121 0.992039   0.9922477  0.99235159\n",
      " 0.99254996 0.99254251 0.99230316 0.99292353 0.99243517 0.99223591\n",
      " 0.99285771 0.99217184 0.99230928 0.99204891]\n",
      "Average Cross Validation score :0.9923501578165888\n",
      "Variance of Cross Validation score :3.8282276497750865e-08\n"
     ]
    }
   ],
   "source": [
    "model_svr = SVR(kernel= 'rbf',\n",
    " gamma= 1,\n",
    " degree= 4,\n",
    " C= 5,\n",
    "           epsilon= 0.015142857142857145)\n",
    "shuffle_split=ShuffleSplit(test_size=.3,n_splits=100,  random_state=123)\n",
    "scores_svr=cross_val_score(model_svr,X,y,cv=shuffle_split)\n",
    "print(\"cross Validation scores:n {}\".format(scores_svr))\n",
    "print(\"Average Cross Validation score :{}\".format(scores_svr.mean()))\n",
    "print(\"Variance of Cross Validation score :{}\".format(scores_svr.var()))"
   ]
  },
  {
   "cell_type": "code",
   "execution_count": 57,
   "id": "491de51e",
   "metadata": {},
   "outputs": [
    {
     "name": "stdout",
     "output_type": "stream",
     "text": [
      "1.3832014892525748\n"
     ]
    }
   ],
   "source": [
    "model = model_svr\n",
    "model.fit(X,y)\n",
    "final_df_mean['y__mean_new_svr']=model.predict(X)\n",
    "#print(np.sum((final_df_mean['y__mean_new_gam']-final_df_mean['mean_cols'])**2)/10000)\n",
    "print(mean_squared_error(final_df_mean['y__mean_new_svr'],final_df_mean['mean_cols']))"
   ]
  },
  {
   "cell_type": "code",
   "execution_count": 60,
   "id": "5690e989",
   "metadata": {},
   "outputs": [],
   "source": [
    "from sklearn.ensemble import AdaBoostRegressor"
   ]
  },
  {
   "cell_type": "code",
   "execution_count": 275,
   "id": "4cc5c8d6",
   "metadata": {},
   "outputs": [
    {
     "name": "stdout",
     "output_type": "stream",
     "text": [
      "Fitting 10 folds for each of 50 candidates, totalling 500 fits\n"
     ]
    },
    {
     "data": {
      "text/plain": [
       "{'n_estimators': 500, 'loss': 'linear', 'learning_rate': 3.4934934934934936}"
      ]
     },
     "execution_count": 275,
     "metadata": {},
     "output_type": "execute_result"
    }
   ],
   "source": [
    "\n",
    "adab_model=AdaBoostRegressor(random_state=77)\n",
    "\n",
    "adab_params = {\"learning_rate\": np.linspace(0,10,1000),\n",
    "\"loss\": ['linear','square','exponential'],\n",
    "\"n_estimators\": [100,200,500,1000, 250]\n",
    "}\n",
    "\n",
    "\n",
    "adab_cv_model = RandomizedSearchCV(adab_model, adab_params, \n",
    "                            cv=10, verbose=1, n_iter = 50, random_state=77).fit(X, y)\n",
    "adab_cv_model.best_params_"
   ]
  },
  {
   "cell_type": "code",
   "execution_count": 61,
   "id": "c1bfc6be",
   "metadata": {},
   "outputs": [
    {
     "name": "stdout",
     "output_type": "stream",
     "text": [
      "cross Validation scores:n [0.98843364 0.98847424 0.98852095 0.98830744 0.98916828 0.98899209\n",
      " 0.9877799  0.98859067 0.98876562 0.9885262  0.98779017 0.98838841\n",
      " 0.98864143 0.98890446 0.98842632 0.98886979 0.98780734 0.98813524\n",
      " 0.98778225 0.9882019  0.98837933 0.98876986 0.98807982 0.98747175\n",
      " 0.98770999 0.98806952 0.98829161 0.9877381  0.9880376  0.98768816\n",
      " 0.98800994 0.98817951 0.98857422 0.98864618 0.9887918  0.98840265\n",
      " 0.98889868 0.98927404 0.98883966 0.98863605 0.9886284  0.98836018\n",
      " 0.98875184 0.98809035 0.98811011 0.98825584 0.98800563 0.98881079\n",
      " 0.98750589 0.98828763 0.98906081 0.98866792 0.98834883 0.98879572\n",
      " 0.98777788 0.98823096 0.98817053 0.98748089 0.98863259 0.98905488\n",
      " 0.98818991 0.98813592 0.9894678  0.98808468 0.98792466 0.98828313\n",
      " 0.98766997 0.98824237 0.98816554 0.98873677 0.98858269 0.98874233\n",
      " 0.98926505 0.98789776 0.98896582 0.98767062 0.98846525 0.98795753\n",
      " 0.98855656 0.9888838  0.98797638 0.98840383 0.98879944 0.9878723\n",
      " 0.98901998 0.98894654 0.98854679 0.98811703 0.98842843 0.98863301\n",
      " 0.98834204 0.98875912 0.98822378 0.98949967 0.98857595 0.98854903\n",
      " 0.98926159 0.98792058 0.98888898 0.98789103]\n",
      "Average Cross Validation score :0.9884056611821805\n",
      "Variance of Cross Validation score :2.088072440952502e-07\n"
     ]
    }
   ],
   "source": [
    "model_ada = AdaBoostRegressor(random_state=77,n_estimators=500,loss='linear',learning_rate=3.4934934934934936)\n",
    "shuffle_split=ShuffleSplit(test_size=.3,n_splits=100,  random_state=123)\n",
    "scores_adab=cross_val_score(model_ada,X,y,cv=shuffle_split)\n",
    "print(\"cross Validation scores:n {}\".format(scores_adab))\n",
    "print(\"Average Cross Validation score :{}\".format(scores_adab.mean()))\n",
    "print(\"Variance of Cross Validation score :{}\".format(scores_adab.var()))"
   ]
  },
  {
   "cell_type": "code",
   "execution_count": 62,
   "id": "c88ba12c",
   "metadata": {},
   "outputs": [
    {
     "name": "stdout",
     "output_type": "stream",
     "text": [
      "2.0539368580185524\n"
     ]
    }
   ],
   "source": [
    "model = model_ada\n",
    "model.fit(X,y)\n",
    "final_df_mean['y__mean_new_ada']=model.predict(X)\n",
    "#print(np.sum((final_df_mean['y__mean_new_gam']-final_df_mean['mean_cols'])**2)/10000)\n",
    "print(mean_squared_error(final_df_mean['y__mean_new_ada'],final_df_mean['mean_cols']))"
   ]
  },
  {
   "cell_type": "code",
   "execution_count": null,
   "id": "aed46707",
   "metadata": {},
   "outputs": [],
   "source": []
  },
  {
   "cell_type": "code",
   "execution_count": 64,
   "id": "69435d52",
   "metadata": {},
   "outputs": [],
   "source": [
    "from sklearn.preprocessing import PolynomialFeatures"
   ]
  },
  {
   "cell_type": "code",
   "execution_count": 278,
   "id": "bb2eeffe",
   "metadata": {},
   "outputs": [],
   "source": [
    "\n",
    "\n",
    "\n",
    "\n",
    "train_rmse_errors = []\n",
    "# TEST ERROR PER DEGREE\n",
    "test_rmse_errors = []\n",
    "\n",
    "for d in range(1,10):\n",
    "\n",
    "    # CREATE POLY DATA SET FOR DEGREE \"d\"\n",
    "    polynomial_converter = PolynomialFeatures(degree=d,include_bias=False)\n",
    "    poly_features = polynomial_converter.fit_transform(X)\n",
    "\n",
    "    # SPLIT THIS NEW POLY DATA SET\n",
    "    X_train, X_test, y_train, y_test = train_test_split(poly_features, y, test_size=0.3, random_state=101)\n",
    "\n",
    "    # TRAIN ON THIS NEW POLY SET\n",
    "    model = LinearRegression(fit_intercept=True)\n",
    "    model.fit(X_train,y_train)\n",
    "\n",
    "    # PREDICT ON BOTH TRAIN AND TEST\n",
    "    train_pred = model.predict(X_train)\n",
    "    test_pred = model.predict(X_test)\n",
    "\n",
    "    # Calculate Errors\n",
    "\n",
    "    # Errors on Train Set\n",
    "    train_RMSE = np.sqrt(mean_squared_error(y_train,train_pred))\n",
    "\n",
    "    # Errors on Test Set\n",
    "    test_RMSE = np.sqrt(mean_squared_error(y_test,test_pred))\n",
    "\n",
    "    # Append errors to lists for plotting later\n",
    "\n",
    "\n",
    "    train_rmse_errors.append(train_RMSE)\n",
    "    test_rmse_errors.append(test_RMSE)"
   ]
  },
  {
   "cell_type": "code",
   "execution_count": 279,
   "id": "79be1c2e",
   "metadata": {},
   "outputs": [
    {
     "data": {
      "text/plain": [
       "<matplotlib.legend.Legend at 0x2ce659ef750>"
      ]
     },
     "execution_count": 279,
     "metadata": {},
     "output_type": "execute_result"
    },
    {
     "data": {
      "image/png": "[encoded data removed]",
      "text/plain": [
       "<Figure size 640x480 with 1 Axes>"
      ]
     },
     "metadata": {},
     "output_type": "display_data"
    }
   ],
   "source": [
    "plt.plot(range(1,10),train_rmse_errors[:11],label='TRAIN')\n",
    "plt.plot(range(1,10),test_rmse_errors[:11],label='TEST')\n",
    "plt.xlabel(\"Polynomial Complexity\")\n",
    "plt.ylabel(\"RMSE\")\n",
    "plt.legend()"
   ]
  },
  {
   "cell_type": "code",
   "execution_count": 65,
   "id": "8947f3ba",
   "metadata": {},
   "outputs": [
    {
     "name": "stdout",
     "output_type": "stream",
     "text": [
      "cross Validation scores:n [0.95160318 0.94982481 0.95158989 0.94876944 0.94998146 0.94947945\n",
      " 0.95153754 0.95076021 0.94947163 0.95162626 0.94977665 0.94917192\n",
      " 0.95244959 0.95036873 0.94991666 0.95125119 0.95126797 0.94987703\n",
      " 0.950762   0.94914983 0.95032381 0.95123839 0.94969317 0.95121402\n",
      " 0.95015141 0.94875246 0.94862108 0.9491129  0.94781049 0.95057374\n",
      " 0.94964168 0.94956744 0.95109611 0.95173659 0.94964013 0.94920172\n",
      " 0.94864009 0.95094739 0.95109409 0.95048274 0.9491785  0.94979448\n",
      " 0.95053493 0.94906661 0.95168508 0.95070469 0.9495516  0.94953242\n",
      " 0.95109165 0.95128763 0.95119993 0.94996158 0.95094248 0.95042505\n",
      " 0.95061546 0.95108135 0.94983169 0.95057499 0.95039295 0.95144461\n",
      " 0.95029924 0.95150905 0.9523005  0.95109408 0.94977669 0.95028924\n",
      " 0.94893288 0.94953926 0.9511886  0.95020432 0.95034103 0.94917727\n",
      " 0.94921856 0.94963163 0.94933191 0.95119862 0.95115918 0.94980858\n",
      " 0.9507728  0.9495924  0.95075073 0.9509309  0.94969029 0.94865888\n",
      " 0.95142028 0.9496609  0.94997621 0.94888075 0.95034762 0.95057735\n",
      " 0.95130218 0.95023116 0.95023089 0.95091319 0.94991154 0.95061753\n",
      " 0.95005589 0.94924904 0.9499982  0.94899608]\n",
      "Average Cross Validation score :0.9502483804403751\n",
      "Variance of Cross Validation score :8.431988866493646e-07\n"
     ]
    }
   ],
   "source": [
    "polynomial_converter = PolynomialFeatures(degree=4,include_bias=False)\n",
    "\n",
    "model_pc = LinearRegression(fit_intercept=True)\n",
    "shuffle_split=ShuffleSplit(test_size=.3,n_splits=100,  random_state=123)\n",
    "scores_pc=cross_val_score(model_pc,X,y,cv=shuffle_split)\n",
    "print(\"cross Validation scores:n {}\".format(scores_pc))\n",
    "print(\"Average Cross Validation score :{}\".format(scores_pc.mean()))\n",
    "print(\"Variance of Cross Validation score :{}\".format(scores_pc.var()))"
   ]
  },
  {
   "cell_type": "code",
   "execution_count": 66,
   "id": "1b45862d",
   "metadata": {},
   "outputs": [
    {
     "name": "stdout",
     "output_type": "stream",
     "text": [
      "9.301019938134218\n"
     ]
    }
   ],
   "source": [
    "model = model_pc\n",
    "model.fit(X,y)\n",
    "final_df_mean['y__mean_new_pc']=model.predict(X)\n",
    "#print(np.sum((final_df_mean['y__mean_new_gam']-final_df_mean['mean_cols'])**2)/10000)\n",
    "print(mean_squared_error(final_df_mean['y__mean_new_pc'],final_df_mean['mean_cols']))"
   ]
  },
  {
   "cell_type": "code",
   "execution_count": 287,
   "id": "a654a19d",
   "metadata": {},
   "outputs": [
    {
     "name": "stdout",
     "output_type": "stream",
     "text": [
      "1.0451210038506402\n"
     ]
    }
   ],
   "source": [
    "final_df_mean['new_mean']=np.mean(final_df_mean.loc[:,['y__mean_new_gbr','y__mean_new_xgb','y__mean_new_knn','y__mean_new_rf']],axis=1)\n",
    "print(mean_squared_error(final_df_mean['new_mean'],final_df_mean['mean_cols']))"
   ]
  },
  {
   "cell_type": "code",
   "execution_count": null,
   "id": "ddc11e8c",
   "metadata": {},
   "outputs": [],
   "source": []
  },
  {
   "cell_type": "code",
   "execution_count": 95,
   "id": "6a8b5894",
   "metadata": {},
   "outputs": [],
   "source": [
    "#!pip install pyearth"
   ]
  },
  {
   "cell_type": "code",
   "execution_count": 17,
   "id": "5b30c033",
   "metadata": {},
   "outputs": [],
   "source": [
    "import torch\n",
    "import torch.nn as nn\n",
    "import torch.nn.functional as F\n",
    "from torch.utils.data import DataLoader\n",
    "from torch.utils.data import Dataset\n"
   ]
  },
  {
   "cell_type": "code",
   "execution_count": 18,
   "id": "23e55c73",
   "metadata": {},
   "outputs": [],
   "source": [
    "nInput  = 2\n",
    "nHidden = 10\n",
    "nOutput = 1"
   ]
  },
  {
   "cell_type": "code",
   "execution_count": 19,
   "id": "97acef71",
   "metadata": {},
   "outputs": [],
   "source": [
    "class MLPcondensed(nn.Module):\n",
    "    '''\n",
    "    Multi-layer perceptron for non-linear regression.\n",
    "    '''\n",
    "    def __init__(self, nInput, nHidden, nOutput):\n",
    "        super().__init__()\n",
    "        self.layers = nn.Sequential(\n",
    "            nn.Linear(nInput, nHidden),\n",
    "            nn.ReLU(),\n",
    "            nn.Linear(nHidden, nHidden),\n",
    "            nn.ReLU(),\n",
    "            nn.Linear(nHidden, nHidden),\n",
    "            nn.ReLU(),\n",
    "            nn.Linear(nHidden, nOutput)\n",
    "        )\n",
    "\n",
    "    def forward(self, x):\n",
    "        return(self.layers(x))\n",
    "\n",
    "mlpCondensed = MLPcondensed(nInput, nHidden, nOutput)"
   ]
  },
  {
   "cell_type": "code",
   "execution_count": 20,
   "id": "24b3fdd0",
   "metadata": {},
   "outputs": [],
   "source": [
    "class MLPexplicit(nn.Module):\n",
    "    '''\n",
    "    Multi-layer perceptron for non-linear regression.\n",
    "    '''\n",
    "    def __init__(self, nInput, nHidden, nOutput):\n",
    "        super(MLPexplicit, self).__init__()\n",
    "        self.nInput  = nInput\n",
    "        self.nHidden = nHidden\n",
    "        self.nOutput = nOutput\n",
    "        self.linear1 = nn.Linear(self.nInput, self.nHidden)\n",
    "        self.linear2 = nn.Linear(self.nHidden, self.nHidden)\n",
    "        self.linear3 = nn.Linear(self.nHidden, self.nHidden)\n",
    "        self.linear4 = nn.Linear(self.nHidden, self.nOutput)\n",
    "        self.ReLU    = nn.ReLU()\n",
    "\n",
    "    def forward(self, x):\n",
    "        h1 = self.ReLU(self.linear1(x))\n",
    "        h2 = self.ReLU(self.linear2(h1))\n",
    "        h3 = self.ReLU(self.linear3(h2))\n",
    "        output = self.linear4(h3)\n",
    "        return(output)\n",
    "\n",
    "mlpExplicit = MLPexplicit(nInput, nHidden, nOutput)"
   ]
  },
  {
   "cell_type": "code",
   "execution_count": 67,
   "id": "2bc3b488",
   "metadata": {},
   "outputs": [],
   "source": [
    "model_nn = mlpExplicit\n",
    "\n",
    "X_tensor = torch.tensor(X.values.astype(float))\n",
    "X_tensor=X_tensor.to(torch.float32)\n",
    "y_tensor = torch.tensor(y.values.astype(float))\n",
    "y_tensor=y_tensor.to(torch.float32)"
   ]
  },
  {
   "cell_type": "code",
   "execution_count": 22,
   "id": "90d984e1",
   "metadata": {},
   "outputs": [],
   "source": [
    "class nonLinearRegressionData(Dataset):\n",
    "    '''\n",
    "    Custom 'Dataset' object for our regression data.\n",
    "    Must implement these functions: __init__, __len__, and __getitem__.\n",
    "    '''\n",
    "\n",
    "    def __init__(self, X_tensor, y_tensor):\n",
    "        self.X_tensor = torch.reshape(X_tensor, (len(X_tensor), 2))\n",
    "        self.y_tensor = torch.reshape(y_tensor, (len(y_tensor), 1))\n",
    "\n",
    "    def __len__(self):\n",
    "        return(len(self.X_tensor))\n",
    "\n",
    "    def __getitem__(self, idx):\n",
    "        return(X_tensor[idx], y_tensor[idx])\n",
    "\n",
    "# instantiate Dataset object for current training data\n",
    "d = nonLinearRegressionData(X_tensor, y_tensor)"
   ]
  },
  {
   "cell_type": "code",
   "execution_count": 23,
   "id": "6df2bf30",
   "metadata": {},
   "outputs": [
    {
     "data": {
      "text/plain": [
       "<torch.utils.data.dataloader.DataLoader at 0x22553599c10>"
      ]
     },
     "execution_count": 23,
     "metadata": {},
     "output_type": "execute_result"
    }
   ],
   "source": [
    "train_dataloader = DataLoader(d, batch_size=25 , shuffle=True)\n",
    "train_dataloader"
   ]
  },
  {
   "cell_type": "code",
   "execution_count": 24,
   "id": "026e5823",
   "metadata": {},
   "outputs": [
    {
     "name": "stdout",
     "output_type": "stream",
     "text": [
      "Loss after epoch  2500: 3725.720\n",
      "Loss after epoch  5000: 3724.681\n",
      "Loss after epoch  7500: 3725.576\n",
      "Loss after epoch 10000: 3725.528\n",
      "Loss after epoch 12500: 3724.672\n",
      "Loss after epoch 15000: 3723.767\n",
      "Loss after epoch 17500: 3724.213\n",
      "Loss after epoch 20000: 3725.011\n",
      "Loss after epoch 22500: 3723.720\n",
      "Loss after epoch 25000: 3725.716\n",
      "Loss after epoch 27500: 3723.898\n",
      "Loss after epoch 30000: 3723.098\n",
      "Loss after epoch 32500: 3723.871\n",
      "Loss after epoch 35000: 605.361\n",
      "Loss after epoch 37500: 605.014\n",
      "Loss after epoch 40000: 604.348\n",
      "Loss after epoch 42500: 604.314\n",
      "Loss after epoch 45000: 604.295\n",
      "Loss after epoch 47500: 603.108\n",
      "Loss after epoch 50000: 603.839\n",
      "Training process has finished.\n"
     ]
    }
   ],
   "source": [
    "loss_function = nn.MSELoss()\n",
    "optimizer = torch.optim.Adam(model_nn.parameters(), lr=1e-4)\n",
    "nTrainSteps = 50000\n",
    "\n",
    "# Run the training loop\n",
    "for epoch in range(0, nTrainSteps):\n",
    "\n",
    "    # Set current loss value\n",
    "    current_loss = 0.0\n",
    "\n",
    "    # Iterate over the DataLoader for training data\n",
    "    for i, data in enumerate(train_dataloader, 0):\n",
    "        \n",
    "        #print(len(data[0]))\n",
    "        #print(len(data[1]))\n",
    "        # Get inputs\n",
    "        inputs, targets = data\n",
    "        # Zero the gradients\n",
    "        optimizer.zero_grad()\n",
    "        # Perform forward pass (make sure to supply the input in the right way)\n",
    "        outputs = model_nn(torch.reshape(inputs, (len(inputs), 2))).squeeze()\n",
    "        # Compute loss\n",
    "        loss = loss_function(outputs, targets)\n",
    "        # Perform backward pass\n",
    "        loss.backward()\n",
    "        # Perform optimization\n",
    "        optimizer.step()\n",
    "        # Print statistics\n",
    "        current_loss += loss.item()\n",
    "\n",
    "    if (epoch + 1) % 2500 == 0:\n",
    "        print(\"Loss after epoch %5d: %.3f\" % (epoch + 1, current_loss))\n",
    "        current_loss = 0.0\n",
    "\n",
    "# Process is complete.\n",
    "print(\"Training process has finished.\")\n",
    "\n",
    "\n"
   ]
  },
  {
   "cell_type": "code",
   "execution_count": 68,
   "id": "116734f3",
   "metadata": {},
   "outputs": [],
   "source": [
    "model=model_nn\n",
    "yPred = np.array(\n",
    "    [model.forward(o).detach().numpy() for o in X_tensor]\n",
    ").flatten()"
   ]
  },
  {
   "cell_type": "code",
   "execution_count": 69,
   "id": "d870fd35",
   "metadata": {},
   "outputs": [
    {
     "data": {
      "text/plain": [
       "1.5041735394571727"
      ]
     },
     "execution_count": 69,
     "metadata": {},
     "output_type": "execute_result"
    }
   ],
   "source": [
    "mean_squared_error(y,yPred)"
   ]
  },
  {
   "cell_type": "code",
   "execution_count": 70,
   "id": "72603b16",
   "metadata": {},
   "outputs": [
    {
     "data": {
      "text/plain": [
       "0.9919481143843457"
      ]
     },
     "execution_count": 70,
     "metadata": {},
     "output_type": "execute_result"
    }
   ],
   "source": [
    "from sklearn.metrics import r2_score\n",
    "r2_score(y, yPred)"
   ]
  },
  {
   "cell_type": "code",
   "execution_count": null,
   "id": "8bed7892",
   "metadata": {},
   "outputs": [],
   "source": [
    "# GAM - Mean --> 3.17 / 3.17\n",
    "# GBR - Mean --> 1.22 / 1.05\n",
    "# XGB - Mean --> 1.16 / 1.09\n",
    "# KNN - Mean --> 1.06 / 1.08\n",
    "# NN - Mean --> 1.34\n",
    "# SVR - Mean --> 1.21 / 1.383\n",
    "# Random Forest - Mean --> 1.105 / 1.105\n",
    "# AdaBoost - Mean --> 3.83 / 2.05\n",
    "# PC : 9.3"
   ]
  },
  {
   "cell_type": "code",
   "execution_count": null,
   "id": "308c3382",
   "metadata": {},
   "outputs": [],
   "source": []
  },
  {
   "cell_type": "code",
   "execution_count": 203,
   "id": "6c1e9336",
   "metadata": {},
   "outputs": [],
   "source": []
  },
  {
   "cell_type": "code",
   "execution_count": null,
   "id": "9ffeb462",
   "metadata": {},
   "outputs": [],
   "source": []
  },
  {
   "cell_type": "code",
   "execution_count": null,
   "id": "30e4785f",
   "metadata": {},
   "outputs": [],
   "source": []
  },
  {
   "cell_type": "code",
   "execution_count": 289,
   "id": "72c9675c",
   "metadata": {},
   "outputs": [
    {
     "data": {
      "text/html": [
       "<div>\n",
       "<style scoped>\n",
       "    .dataframe tbody tr th:only-of-type {\n",
       "        vertical-align: middle;\n",
       "    }\n",
       "\n",
       "    .dataframe tbody tr th {\n",
       "        vertical-align: top;\n",
       "    }\n",
       "\n",
       "    .dataframe thead th {\n",
       "        text-align: right;\n",
       "    }\n",
       "</style>\n",
       "<table border=\"1\" class=\"dataframe\">\n",
       "  <thead>\n",
       "    <tr style=\"text-align: right;\">\n",
       "      <th></th>\n",
       "      <th>x1</th>\n",
       "      <th>x2</th>\n",
       "      <th>mean_cols</th>\n",
       "      <th>y__mean_new_gam</th>\n",
       "      <th>y__mean_new_gbr</th>\n",
       "      <th>y__mean_new_xgb</th>\n",
       "      <th>y__mean_new_knn</th>\n",
       "      <th>y__mean_new_rf</th>\n",
       "      <th>y__mean_new_svr</th>\n",
       "      <th>y__mean_new_ada</th>\n",
       "      <th>y__mean_new_pc</th>\n",
       "      <th>new_mean</th>\n",
       "    </tr>\n",
       "  </thead>\n",
       "  <tbody>\n",
       "    <tr>\n",
       "      <th>0</th>\n",
       "      <td>0.00</td>\n",
       "      <td>0.00</td>\n",
       "      <td>21.368195</td>\n",
       "      <td>22.423040</td>\n",
       "      <td>20.509573</td>\n",
       "      <td>20.757019</td>\n",
       "      <td>20.718305</td>\n",
       "      <td>20.431409</td>\n",
       "      <td>20.692461</td>\n",
       "      <td>21.240605</td>\n",
       "      <td>29.132294</td>\n",
       "      <td>20.604077</td>\n",
       "    </tr>\n",
       "    <tr>\n",
       "      <th>1</th>\n",
       "      <td>0.00</td>\n",
       "      <td>0.01</td>\n",
       "      <td>19.006440</td>\n",
       "      <td>22.324004</td>\n",
       "      <td>20.475261</td>\n",
       "      <td>20.317507</td>\n",
       "      <td>20.831623</td>\n",
       "      <td>20.431409</td>\n",
       "      <td>20.623087</td>\n",
       "      <td>21.240605</td>\n",
       "      <td>28.998949</td>\n",
       "      <td>20.513950</td>\n",
       "    </tr>\n",
       "    <tr>\n",
       "      <th>2</th>\n",
       "      <td>0.00</td>\n",
       "      <td>0.02</td>\n",
       "      <td>20.258861</td>\n",
       "      <td>22.240327</td>\n",
       "      <td>20.475261</td>\n",
       "      <td>20.358309</td>\n",
       "      <td>20.487263</td>\n",
       "      <td>20.431409</td>\n",
       "      <td>20.557030</td>\n",
       "      <td>21.240605</td>\n",
       "      <td>28.865603</td>\n",
       "      <td>20.438060</td>\n",
       "    </tr>\n",
       "    <tr>\n",
       "      <th>3</th>\n",
       "      <td>0.00</td>\n",
       "      <td>0.03</td>\n",
       "      <td>21.553905</td>\n",
       "      <td>22.168940</td>\n",
       "      <td>20.475261</td>\n",
       "      <td>20.471489</td>\n",
       "      <td>20.527792</td>\n",
       "      <td>20.431409</td>\n",
       "      <td>20.494232</td>\n",
       "      <td>21.240605</td>\n",
       "      <td>28.732257</td>\n",
       "      <td>20.476488</td>\n",
       "    </tr>\n",
       "    <tr>\n",
       "      <th>4</th>\n",
       "      <td>0.00</td>\n",
       "      <td>0.04</td>\n",
       "      <td>20.659588</td>\n",
       "      <td>22.106770</td>\n",
       "      <td>20.475261</td>\n",
       "      <td>20.490627</td>\n",
       "      <td>20.749408</td>\n",
       "      <td>20.431409</td>\n",
       "      <td>20.434623</td>\n",
       "      <td>21.240605</td>\n",
       "      <td>28.598912</td>\n",
       "      <td>20.536676</td>\n",
       "    </tr>\n",
       "    <tr>\n",
       "      <th>...</th>\n",
       "      <td>...</td>\n",
       "      <td>...</td>\n",
       "      <td>...</td>\n",
       "      <td>...</td>\n",
       "      <td>...</td>\n",
       "      <td>...</td>\n",
       "      <td>...</td>\n",
       "      <td>...</td>\n",
       "      <td>...</td>\n",
       "      <td>...</td>\n",
       "      <td>...</td>\n",
       "      <td>...</td>\n",
       "    </tr>\n",
       "    <tr>\n",
       "      <th>9995</th>\n",
       "      <td>0.99</td>\n",
       "      <td>0.95</td>\n",
       "      <td>60.938533</td>\n",
       "      <td>55.081039</td>\n",
       "      <td>60.804880</td>\n",
       "      <td>61.143772</td>\n",
       "      <td>60.856213</td>\n",
       "      <td>60.370910</td>\n",
       "      <td>60.782699</td>\n",
       "      <td>60.721671</td>\n",
       "      <td>60.209809</td>\n",
       "      <td>60.793944</td>\n",
       "    </tr>\n",
       "    <tr>\n",
       "      <th>9996</th>\n",
       "      <td>0.99</td>\n",
       "      <td>0.96</td>\n",
       "      <td>61.575708</td>\n",
       "      <td>54.920480</td>\n",
       "      <td>61.220674</td>\n",
       "      <td>61.714535</td>\n",
       "      <td>61.043435</td>\n",
       "      <td>60.655955</td>\n",
       "      <td>60.811204</td>\n",
       "      <td>60.815271</td>\n",
       "      <td>60.076463</td>\n",
       "      <td>61.158650</td>\n",
       "    </tr>\n",
       "    <tr>\n",
       "      <th>9997</th>\n",
       "      <td>0.99</td>\n",
       "      <td>0.97</td>\n",
       "      <td>61.362636</td>\n",
       "      <td>54.771718</td>\n",
       "      <td>61.342073</td>\n",
       "      <td>61.828854</td>\n",
       "      <td>61.433170</td>\n",
       "      <td>60.715020</td>\n",
       "      <td>60.841028</td>\n",
       "      <td>60.853211</td>\n",
       "      <td>59.943117</td>\n",
       "      <td>61.329779</td>\n",
       "    </tr>\n",
       "    <tr>\n",
       "      <th>9998</th>\n",
       "      <td>0.99</td>\n",
       "      <td>0.98</td>\n",
       "      <td>62.292096</td>\n",
       "      <td>54.633705</td>\n",
       "      <td>61.663028</td>\n",
       "      <td>62.229706</td>\n",
       "      <td>61.720889</td>\n",
       "      <td>60.715020</td>\n",
       "      <td>60.872047</td>\n",
       "      <td>60.853211</td>\n",
       "      <td>59.809772</td>\n",
       "      <td>61.582160</td>\n",
       "    </tr>\n",
       "    <tr>\n",
       "      <th>9999</th>\n",
       "      <td>0.99</td>\n",
       "      <td>0.99</td>\n",
       "      <td>62.592561</td>\n",
       "      <td>54.505392</td>\n",
       "      <td>61.663028</td>\n",
       "      <td>62.376644</td>\n",
       "      <td>61.703469</td>\n",
       "      <td>60.715020</td>\n",
       "      <td>60.904132</td>\n",
       "      <td>60.853211</td>\n",
       "      <td>59.676426</td>\n",
       "      <td>61.614540</td>\n",
       "    </tr>\n",
       "  </tbody>\n",
       "</table>\n",
       "<p>10000 rows × 12 columns</p>\n",
       "</div>"
      ],
      "text/plain": [
       "        x1    x2  mean_cols  y__mean_new_gam  y__mean_new_gbr  \\\n",
       "0     0.00  0.00  21.368195        22.423040        20.509573   \n",
       "1     0.00  0.01  19.006440        22.324004        20.475261   \n",
       "2     0.00  0.02  20.258861        22.240327        20.475261   \n",
       "3     0.00  0.03  21.553905        22.168940        20.475261   \n",
       "4     0.00  0.04  20.659588        22.106770        20.475261   \n",
       "...    ...   ...        ...              ...              ...   \n",
       "9995  0.99  0.95  60.938533        55.081039        60.804880   \n",
       "9996  0.99  0.96  61.575708        54.920480        61.220674   \n",
       "9997  0.99  0.97  61.362636        54.771718        61.342073   \n",
       "9998  0.99  0.98  62.292096        54.633705        61.663028   \n",
       "9999  0.99  0.99  62.592561        54.505392        61.663028   \n",
       "\n",
       "      y__mean_new_xgb  y__mean_new_knn  y__mean_new_rf  y__mean_new_svr  \\\n",
       "0           20.757019        20.718305       20.431409        20.692461   \n",
       "1           20.317507        20.831623       20.431409        20.623087   \n",
       "2           20.358309        20.487263       20.431409        20.557030   \n",
       "3           20.471489        20.527792       20.431409        20.494232   \n",
       "4           20.490627        20.749408       20.431409        20.434623   \n",
       "...               ...              ...             ...              ...   \n",
       "9995        61.143772        60.856213       60.370910        60.782699   \n",
       "9996        61.714535        61.043435       60.655955        60.811204   \n",
       "9997        61.828854        61.433170       60.715020        60.841028   \n",
       "9998        62.229706        61.720889       60.715020        60.872047   \n",
       "9999        62.376644        61.703469       60.715020        60.904132   \n",
       "\n",
       "      y__mean_new_ada  y__mean_new_pc   new_mean  \n",
       "0           21.240605       29.132294  20.604077  \n",
       "1           21.240605       28.998949  20.513950  \n",
       "2           21.240605       28.865603  20.438060  \n",
       "3           21.240605       28.732257  20.476488  \n",
       "4           21.240605       28.598912  20.536676  \n",
       "...               ...             ...        ...  \n",
       "9995        60.721671       60.209809  60.793944  \n",
       "9996        60.815271       60.076463  61.158650  \n",
       "9997        60.853211       59.943117  61.329779  \n",
       "9998        60.853211       59.809772  61.582160  \n",
       "9999        60.853211       59.676426  61.614540  \n",
       "\n",
       "[10000 rows x 12 columns]"
      ]
     },
     "execution_count": 289,
     "metadata": {},
     "output_type": "execute_result"
    }
   ],
   "source": [
    "final_df_mean"
   ]
  },
  {
   "cell_type": "code",
   "execution_count": null,
   "id": "a668d098",
   "metadata": {},
   "outputs": [],
   "source": []
  }
 ],
 "metadata": {
  "kernelspec": {
   "display_name": "Python 3 (ipykernel)",
   "language": "python",
   "name": "python3"
  },
  "language_info": {
   "codemirror_mode": {
    "name": "ipython",
    "version": 3
   },
   "file_extension": ".py",
   "mimetype": "text/x-python",
   "name": "python",
   "nbconvert_exporter": "python",
   "pygments_lexer": "ipython3",
   "version": "3.11.5"
  }
 },
 "nbformat": 4,
 "nbformat_minor": 5
}
